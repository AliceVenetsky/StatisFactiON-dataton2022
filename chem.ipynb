{
  "cells": [
    {
      "cell_type": "code",
      "execution_count": 2,
      "metadata": {
        "id": "yz9IXkskvSFh"
      },
      "outputs": [],
      "source": [
        "import requests\n",
        "from bs4 import BeautifulSoup\n",
        "import re\n",
        "import pandas as pd"
      ]
    },
    {
      "cell_type": "code",
      "execution_count": null,
      "metadata": {
        "id": "Ra-HwG57782J"
      },
      "outputs": [],
      "source": [
        "#прочитаь 1 столбец названиями\n",
        "excel = pd.read_excel('./DILIst Supplementary Table.xlsx', sheet_name='DILIst')\n",
        "names = excel['CompoundName'].tolist()\n",
        "print(names)"
      ]
    },
    {
      "cell_type": "code",
      "source": [
        "def readDict(filename, sep):\n",
        "    with open(filename, \"r\") as f:\n",
        "        dict = {}\n",
        "        for line in f:\n",
        "            values = line.replace(\",\",\"\").strip().split(sep)\n",
        "            dict[values[0].replace(\"'\",\"\")] = int(values[1])\n",
        "        return(dict)\n"
      ],
      "metadata": {
        "id": "qsa_VIo-LnKI"
      },
      "execution_count": 94,
      "outputs": []
    },
    {
      "cell_type": "code",
      "source": [
        "ch_dict = readDict('chemspider.txt', ':')"
      ],
      "metadata": {
        "id": "_wgcHFfaNYIK"
      },
      "execution_count": 95,
      "outputs": []
    },
    {
      "cell_type": "code",
      "source": [
        "def get_logd(id, tag, d):\n",
        "  url_tag = 'http://www.chemspider.com/Chemical-Structure.{}.html'.format(id);\n",
        "  page = requests.get(url_tag)\n",
        "  soup = BeautifulSoup(page.text, \"html.parser\")\n",
        "  lst_props = []\n",
        "  lst_vals = []\n",
        "  lst_props = soup.findAll('td', class_= 'prop_title')\n",
        "  div = soup.find('div',  {'id': 'suppInfoTab'})\n",
        "  lst_div = []\n",
        "  if div:\n",
        "    lst_div = div.findAll('td')\n",
        "  d['toxicity'] = ''\n",
        "  if lst_div:\n",
        "    for l in lst_div:\n",
        "      if \"LD50\" in l.getText():\n",
        "        d['toxicity'] = l.getText()\n",
        "  for p in lst_props:\n",
        "    if \"ACD/LogD\" in p.get_text():\n",
        "      key = p.get_text().strip()\n",
        "      val = p.find_next_sibling('td').get_text().strip()\n",
        "      d[key] = val"
      ],
      "metadata": {
        "id": "ViohJj82eEN1"
      },
      "execution_count": 105,
      "outputs": []
    },
    {
      "cell_type": "code",
      "source": [
        "d={}"
      ],
      "metadata": {
        "id": "QlwqiOdwkNPD"
      },
      "execution_count": 86,
      "outputs": []
    },
    {
      "cell_type": "code",
      "source": [
        "get_logd(2157, 'aspirin',d)"
      ],
      "metadata": {
        "id": "zKj7JMtXOg-1"
      },
      "execution_count": null,
      "outputs": []
    },
    {
      "cell_type": "code",
      "execution_count": null,
      "metadata": {
        "id": "QYLAKyKW-5oj"
      },
      "outputs": [],
      "source": [
        "data = requests.get(\"https://pubchem.ncbi.nlm.nih.gov/rest/pug_view/data/compound/5479/xml\")\n",
        "data\n",
        "html = BeautifulSoup(data.content, \"xml\")\n",
        "solubility_tag = html.find(name='TOCHeading', string='Solubility')\n",
        "siblings = solubility_tag.find_next_siblings('Information')\n",
        "for sib in siblings:\n",
        "  if sib.find(name='Number'):\n",
        "    solubility = '{} {}'.format(\n",
        "    sib.find(name='Number').string,\n",
        "    sib.find(name='Unit').string\n",
        "    )\n",
        "    print(solubility)\n"
      ]
    },
    {
      "cell_type": "code",
      "execution_count": null,
      "metadata": {
        "id": "vo_2YhFLMRYb"
      },
      "outputs": [],
      "source": [
        "molecules = []"
      ]
    },
    {
      "cell_type": "code",
      "execution_count": 98,
      "metadata": {
        "id": "UfQU2AcELx7j"
      },
      "outputs": [],
      "source": [
        "def get_bf_data(tag, temp):\n",
        "  temp['name'] = tag\n",
        "  url_tag = 'https://pubchem.ncbi.nlm.nih.gov/rest/pug/compound/name/{}/xml'.format(tag);\n",
        "  data = requests.get(url_tag)\n",
        "  html = BeautifulSoup(data.content, \"xml\")\n",
        "  #print(html)\n",
        "  try:\n",
        "    smile_tag = html.find(name=\"PC-Urn_label\", string=\"SMILES\")\n",
        "    smile_parents = smile_tag.find_parent(\"PC-InfoData\")\n",
        "    smile = smile_parents.find('PC-InfoData_value_sval').string\n",
        "    temp['smile'] = smile\n",
        "  except:\n",
        "    temp['smile'] = ' '\n",
        "    print(\"Error in smile\", tag)\n",
        "  try:\n",
        "    log_tag = html.find(name=\"PC-Urn_label\", string=\"Log P\")\n",
        "    log_parents = log_tag.find_parent(\"PC-InfoData\")\n",
        "    log_p = log_parents.find('PC-InfoData_value_fval').string\n",
        "    temp['log_p'] = log_p\n",
        "  except:\n",
        "    temp['log_p'] = ' '\n",
        "    print(\"Error in log_p\", tag)\n",
        "  try:\n",
        "    id_tag = html.find(name=\"PC-CompoundType_id_cid\").string\n",
        "    get_pug_rest(id_tag, temp)\n",
        "  except:\n",
        "    print(\"Error in toxicity & solubility\", tag)\n",
        "  return temp"
      ]
    },
    {
      "cell_type": "code",
      "source": [
        "for key, value in ch_dict.items():\n",
        "  temp = {}\n",
        "  get_bf_data(key, temp)\n",
        "  get_logd(value, key, temp)\n",
        "  print(temp)\n",
        "  molecules.append(temp)"
      ],
      "metadata": {
        "id": "vEnmH41l6wxE"
      },
      "execution_count": null,
      "outputs": []
    },
    {
      "cell_type": "code",
      "execution_count": null,
      "metadata": {
        "id": "I7KGZw19RAnM"
      },
      "outputs": [],
      "source": [
        "get_bf_data('tinidazole')"
      ]
    },
    {
      "cell_type": "code",
      "execution_count": 97,
      "metadata": {
        "id": "mrDsJidzWWy5"
      },
      "outputs": [],
      "source": [
        "def get_pug_rest(id, d):\n",
        "    url_tag = 'https://pubchem.ncbi.nlm.nih.gov/rest/pug_view/data/compound/{}/xml'.format(id)\n",
        "    data = requests.get(url_tag)\n",
        "    html = BeautifulSoup(data.content, \"xml\")\n",
        "    try:\n",
        "      solubility_tag = html.find(name='TOCHeading', string='Solubility')\n",
        "      siblings = solubility_tag.find_next_siblings('Information')\n",
        "      solubility = ' '\n",
        "      for sib in siblings:\n",
        "        if sib.find(name='Number'):\n",
        "          solubility = '{} {}'.format(\n",
        "          sib.find(name='Number').string,\n",
        "          sib.find(name='Unit').string\n",
        "          )\n",
        "      d['solubility'] = solubility\n",
        "    except:\n",
        "      print(\"Error in\", id)\n",
        "      d['solubility'] = ' '\n",
        "    try:\n",
        "      toxicity_tag = html.find(name='TOCHeading', string='Toxicity Summary')\n",
        "      d['toxicity_sum'] = toxicity_tag.find_next_sibling('Information').find(name='String').string\n",
        "    except:\n",
        "      d['toxicity_sum'] = ' '\n",
        "      print(\"Error in\", id)"
      ]
    },
    {
      "cell_type": "code",
      "source": [
        "data = requests.get('https://pubchem.ncbi.nlm.nih.gov/rest/pug_view/data/compound/667490/xml')\n",
        "html = BeautifulSoup(data.content, \"xml\")\n",
        "html"
      ],
      "metadata": {
        "id": "Wn9bAFu2sz0V"
      },
      "execution_count": null,
      "outputs": []
    },
    {
      "cell_type": "code",
      "execution_count": null,
      "metadata": {
        "id": "5dZbF9sgaFOu"
      },
      "outputs": [],
      "source": [
        "for i in range(len(names)): \n",
        "  print(names[i])\n",
        "  molecules.append(get_bf_data(names[i].lower()))"
      ]
    },
    {
      "cell_type": "code",
      "source": [
        "molecules=[]"
      ],
      "metadata": {
        "id": "jbdv-3HDFRHu"
      },
      "execution_count": 99,
      "outputs": []
    },
    {
      "cell_type": "code",
      "source": [],
      "metadata": {
        "id": "pDcl5NF_Fbd8"
      },
      "execution_count": null,
      "outputs": []
    },
    {
      "cell_type": "code",
      "source": [
        "import csv\n",
        "with open('test_molecules_with_logd','w') as csvfile:\n",
        "        writer = csv.writer(csvfile)\n",
        "        writer.writerow(('Name','Smile','Log P', 'Log D (ph 5.5)', 'Log D (ph 7.4)','Solubility', 'Toxicity'))\n",
        "        for mol in molecules:\n",
        "            try:\n",
        "              writer.writerow((mol['name'], mol['smile'], mol['log_p'], \n",
        "                               mol['ACD/LogD (pH 5.5):'], mol['ACD/LogD (pH 7.4):'], \n",
        "                               mol['solubility'], mol['toxicity']))\n",
        "            except: \n",
        "              print(mol)"
      ],
      "metadata": {
        "id": "UD15WxxhFim9"
      },
      "execution_count": null,
      "outputs": []
    },
    {
      "cell_type": "code",
      "source": [],
      "metadata": {
        "id": "c73dSsFrPOg9"
      },
      "execution_count": 4,
      "outputs": []
    },
    {
      "cell_type": "code",
      "source": [
        "!pip install chemspipy"
      ],
      "metadata": {
        "id": "5Kvjtar9U5Be"
      },
      "execution_count": null,
      "outputs": []
    },
    {
      "cell_type": "code",
      "source": [
        "from chemspipy import ChemSpider"
      ],
      "metadata": {
        "id": "vfHfXVjEUu49"
      },
      "execution_count": 4,
      "outputs": []
    },
    {
      "cell_type": "code",
      "source": [
        "cs = ChemSpider('pm3w5rO3yTm9qTDSnTBccPSkbMHx4HWp')"
      ],
      "metadata": {
        "id": "XNoatNnpVDXr"
      },
      "execution_count": 5,
      "outputs": []
    },
    {
      "cell_type": "code",
      "source": [
        "chemspider_list = {}\n",
        "absent_list=[]"
      ],
      "metadata": {
        "id": "0wWN53TxYg1-"
      },
      "execution_count": 6,
      "outputs": []
    },
    {
      "cell_type": "code",
      "source": [
        "absent_list=[]"
      ],
      "metadata": {
        "id": "HZ1onw80bvS4"
      },
      "execution_count": 7,
      "outputs": []
    },
    {
      "cell_type": "code",
      "source": [
        "for n in names:\n",
        "    print(n) \n",
        "    tmp = cs.search(n)\n",
        "    if len(tmp)> 0:\n",
        "      chemspider_list[n] = tmp[0].record_id\n",
        "      print(n)\n",
        "    else:\n",
        "      absent_list.append(n)"
      ],
      "metadata": {
        "id": "OSQpy-voXqDu"
      },
      "execution_count": null,
      "outputs": []
    },
    {
      "cell_type": "code",
      "source": [
        "chemspider_list"
      ],
      "metadata": {
        "colab": {
          "base_uri": "https://localhost:8080/"
        },
        "id": "Xufbz1i9ZeMA",
        "outputId": "59ea3581-455a-479e-ce99-e393c8097baf"
      },
      "execution_count": null,
      "outputs": [
        {
          "output_type": "execute_result",
          "data": {
            "text/plain": [
              "{}"
            ]
          },
          "metadata": {},
          "execution_count": 242
        }
      ]
    },
    {
      "cell_type": "code",
      "source": [
        "len(chemspider_list)"
      ],
      "metadata": {
        "colab": {
          "base_uri": "https://localhost:8080/"
        },
        "id": "kUYjt_EOZmNt",
        "outputId": "7edda900-5822-4b50-fa3e-6cacb5dc55e1"
      },
      "execution_count": null,
      "outputs": [
        {
          "output_type": "execute_result",
          "data": {
            "text/plain": [
              "0"
            ]
          },
          "metadata": {},
          "execution_count": 243
        }
      ]
    },
    {
      "cell_type": "code",
      "source": [
        "len(absent_list)"
      ],
      "metadata": {
        "colab": {
          "base_uri": "https://localhost:8080/"
        },
        "id": "ECtZ-I-bcj-9",
        "outputId": "8ca9d0f1-a62b-4798-9561-4b74253d344d"
      },
      "execution_count": null,
      "outputs": [
        {
          "output_type": "execute_result",
          "data": {
            "text/plain": [
              "1279"
            ]
          },
          "metadata": {},
          "execution_count": 244
        }
      ]
    }
  ],
  "metadata": {
    "colab": {
      "provenance": []
    },
    "kernelspec": {
      "display_name": "Python 3",
      "name": "python3"
    },
    "language_info": {
      "name": "python"
    }
  },
  "nbformat": 4,
  "nbformat_minor": 0
}