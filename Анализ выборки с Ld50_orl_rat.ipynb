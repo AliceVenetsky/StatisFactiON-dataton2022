{
 "cells": [
  {
   "attachments": {},
   "cell_type": "markdown",
   "metadata": {},
   "source": [
    "Проанализируем выборку из дата-сета, содержащую все полученные данные Ld50_orl_rat (полулетальная доза при пероральном введении препарата крысам)."
   ]
  },
  {
   "cell_type": "code",
   "execution_count": 1,
   "metadata": {},
   "outputs": [
    {
     "data": {
      "text/html": [
       "<div>\n",
       "<style scoped>\n",
       "    .dataframe tbody tr th:only-of-type {\n",
       "        vertical-align: middle;\n",
       "    }\n",
       "\n",
       "    .dataframe tbody tr th {\n",
       "        vertical-align: top;\n",
       "    }\n",
       "\n",
       "    .dataframe thead th {\n",
       "        text-align: right;\n",
       "    }\n",
       "</style>\n",
       "<table border=\"1\" class=\"dataframe\">\n",
       "  <thead>\n",
       "    <tr style=\"text-align: right;\">\n",
       "      <th></th>\n",
       "      <th>name</th>\n",
       "      <th>smiles</th>\n",
       "      <th>LogP</th>\n",
       "      <th>LogD_ph_5.5</th>\n",
       "      <th>LogD_ph_7.4</th>\n",
       "      <th>Ld50_orl_rat</th>\n",
       "    </tr>\n",
       "  </thead>\n",
       "  <tbody>\n",
       "    <tr>\n",
       "      <th>0</th>\n",
       "      <td>mannitol</td>\n",
       "      <td>C(C(C(C(C(CO)O)O)O)O)O</td>\n",
       "      <td>-3.1</td>\n",
       "      <td>-3.29</td>\n",
       "      <td>-3.29</td>\n",
       "      <td>17000</td>\n",
       "    </tr>\n",
       "    <tr>\n",
       "      <th>1</th>\n",
       "      <td>methotrexate</td>\n",
       "      <td>CN(CC1=CN=C2C(=N1)C(=NC(=N2)N)N)C3=CC=C(C=C3)C...</td>\n",
       "      <td>-1.8</td>\n",
       "      <td>-3.91</td>\n",
       "      <td>-5.22</td>\n",
       "      <td>135</td>\n",
       "    </tr>\n",
       "    <tr>\n",
       "      <th>2</th>\n",
       "      <td>acetaminophen</td>\n",
       "      <td>CC(=O)NC1=CC=C(C=C1)O</td>\n",
       "      <td>0.5</td>\n",
       "      <td>0.40</td>\n",
       "      <td>0.40</td>\n",
       "      <td>1944</td>\n",
       "    </tr>\n",
       "    <tr>\n",
       "      <th>3</th>\n",
       "      <td>aspirin</td>\n",
       "      <td>CC(=O)OC1=CC=CC=C1C(=O)O</td>\n",
       "      <td>1.2</td>\n",
       "      <td>-0.60</td>\n",
       "      <td>-1.69</td>\n",
       "      <td>200</td>\n",
       "    </tr>\n",
       "    <tr>\n",
       "      <th>4</th>\n",
       "      <td>captopril</td>\n",
       "      <td>CC(CS)C(=O)N1CCCC1C(=O)O</td>\n",
       "      <td>0.3</td>\n",
       "      <td>-1.23</td>\n",
       "      <td>-2.83</td>\n",
       "      <td>4245</td>\n",
       "    </tr>\n",
       "  </tbody>\n",
       "</table>\n",
       "</div>"
      ],
      "text/plain": [
       "            name                                             smiles  LogP  \\\n",
       "0       mannitol                             C(C(C(C(C(CO)O)O)O)O)O  -3.1   \n",
       "1   methotrexate  CN(CC1=CN=C2C(=N1)C(=NC(=N2)N)N)C3=CC=C(C=C3)C...  -1.8   \n",
       "2  acetaminophen                              CC(=O)NC1=CC=C(C=C1)O   0.5   \n",
       "3        aspirin                           CC(=O)OC1=CC=CC=C1C(=O)O   1.2   \n",
       "4      captopril                           CC(CS)C(=O)N1CCCC1C(=O)O   0.3   \n",
       "\n",
       "   LogD_ph_5.5  LogD_ph_7.4  Ld50_orl_rat  \n",
       "0        -3.29        -3.29         17000  \n",
       "1        -3.91        -5.22           135  \n",
       "2         0.40         0.40          1944  \n",
       "3        -0.60        -1.69           200  \n",
       "4        -1.23        -2.83          4245  "
      ]
     },
     "execution_count": 1,
     "metadata": {},
     "output_type": "execute_result"
    }
   ],
   "source": [
    "import numpy as np \n",
    "import pandas as pd \n",
    "import seaborn as sns \n",
    "import matplotlib.pyplot as plt \n",
    "%matplotlib inline\n",
    "pd.options.mode.chained_assignment = None\n",
    " \n",
    "df = pd.read_excel('molecules_only_with_LD50.xls')\n",
    "df.head()"
   ]
  },
  {
   "cell_type": "code",
   "execution_count": 287,
   "metadata": {},
   "outputs": [
    {
     "data": {
      "text/plain": [
       "name            0\n",
       "smiles          0\n",
       "LogP            0\n",
       "LogD_ph_5.5     0\n",
       "LogD_ph_7.4     0\n",
       "Ld50_orl_rat    0\n",
       "dtype: int64"
      ]
     },
     "execution_count": 287,
     "metadata": {},
     "output_type": "execute_result"
    }
   ],
   "source": [
    "df.isnull().sum()  # Пропущенных значений нет."
   ]
  },
  {
   "cell_type": "code",
   "execution_count": 4,
   "metadata": {},
   "outputs": [
    {
     "data": {
      "text/html": [
       "<div>\n",
       "<style scoped>\n",
       "    .dataframe tbody tr th:only-of-type {\n",
       "        vertical-align: middle;\n",
       "    }\n",
       "\n",
       "    .dataframe tbody tr th {\n",
       "        vertical-align: top;\n",
       "    }\n",
       "\n",
       "    .dataframe thead th {\n",
       "        text-align: right;\n",
       "    }\n",
       "</style>\n",
       "<table border=\"1\" class=\"dataframe\">\n",
       "  <thead>\n",
       "    <tr style=\"text-align: right;\">\n",
       "      <th></th>\n",
       "      <th>LogP</th>\n",
       "      <th>LogD_ph_5.5</th>\n",
       "      <th>LogD_ph_7.4</th>\n",
       "      <th>Ld50_orl_rat</th>\n",
       "    </tr>\n",
       "  </thead>\n",
       "  <tbody>\n",
       "    <tr>\n",
       "      <th>count</th>\n",
       "      <td>26.000000</td>\n",
       "      <td>26.000000</td>\n",
       "      <td>26.000000</td>\n",
       "      <td>26.000000</td>\n",
       "    </tr>\n",
       "    <tr>\n",
       "      <th>mean</th>\n",
       "      <td>1.611538</td>\n",
       "      <td>0.733462</td>\n",
       "      <td>0.320769</td>\n",
       "      <td>3057.923077</td>\n",
       "    </tr>\n",
       "    <tr>\n",
       "      <th>std</th>\n",
       "      <td>2.242022</td>\n",
       "      <td>2.313505</td>\n",
       "      <td>2.604003</td>\n",
       "      <td>4875.450124</td>\n",
       "    </tr>\n",
       "    <tr>\n",
       "      <th>min</th>\n",
       "      <td>-3.100000</td>\n",
       "      <td>-3.910000</td>\n",
       "      <td>-5.220000</td>\n",
       "      <td>30.000000</td>\n",
       "    </tr>\n",
       "    <tr>\n",
       "      <th>25%</th>\n",
       "      <td>0.075000</td>\n",
       "      <td>-0.577500</td>\n",
       "      <td>-1.362500</td>\n",
       "      <td>266.750000</td>\n",
       "    </tr>\n",
       "    <tr>\n",
       "      <th>50%</th>\n",
       "      <td>1.250000</td>\n",
       "      <td>0.225000</td>\n",
       "      <td>0.235000</td>\n",
       "      <td>1990.000000</td>\n",
       "    </tr>\n",
       "    <tr>\n",
       "      <th>75%</th>\n",
       "      <td>3.375000</td>\n",
       "      <td>2.355000</td>\n",
       "      <td>1.727500</td>\n",
       "      <td>2777.500000</td>\n",
       "    </tr>\n",
       "    <tr>\n",
       "      <th>max</th>\n",
       "      <td>5.700000</td>\n",
       "      <td>6.010000</td>\n",
       "      <td>6.010000</td>\n",
       "      <td>20000.000000</td>\n",
       "    </tr>\n",
       "  </tbody>\n",
       "</table>\n",
       "</div>"
      ],
      "text/plain": [
       "            LogP  LogD_ph_5.5  LogD_ph_7.4  Ld50_orl_rat\n",
       "count  26.000000    26.000000    26.000000     26.000000\n",
       "mean    1.611538     0.733462     0.320769   3057.923077\n",
       "std     2.242022     2.313505     2.604003   4875.450124\n",
       "min    -3.100000    -3.910000    -5.220000     30.000000\n",
       "25%     0.075000    -0.577500    -1.362500    266.750000\n",
       "50%     1.250000     0.225000     0.235000   1990.000000\n",
       "75%     3.375000     2.355000     1.727500   2777.500000\n",
       "max     5.700000     6.010000     6.010000  20000.000000"
      ]
     },
     "execution_count": 4,
     "metadata": {},
     "output_type": "execute_result"
    }
   ],
   "source": [
    "df.describe()  # Приведем описательные статистики:"
   ]
  },
  {
   "cell_type": "code",
   "execution_count": 5,
   "metadata": {},
   "outputs": [
    {
     "data": {
      "image/png": "[encoded data removed]",
      "text/plain": [
       "<Figure size 640x480 with 1 Axes>"
      ]
     },
     "metadata": {},
     "output_type": "display_data"
    }
   ],
   "source": [
    "df['Ld50_orl_rat'].hist();  # Построим гистограмму целевого признака - Ld50_orl_rat"
   ]
  },
  {
   "attachments": {},
   "cell_type": "markdown",
   "metadata": {},
   "source": [
    "Ее вид уже настораживает в отношении возможных выбросов, проанализируем \"ящик с усами\": "
   ]
  },
  {
   "cell_type": "code",
   "execution_count": 6,
   "metadata": {},
   "outputs": [
    {
     "data": {
      "image/png": "[encoded data removed]",
      "text/plain": [
       "<Figure size 500x300 with 1 Axes>"
      ]
     },
     "metadata": {},
     "output_type": "display_data"
    }
   ],
   "source": [
    "data1 = [df['LogP'], df['LogD_ph_5.5'], df['LogD_ph_7.4']]  \n",
    " \n",
    "fig = plt.figure(figsize =(5, 3))\n",
    "ax = fig.add_axes([0, 0, 1, 1])\n",
    "bp = ax.boxplot(data1)\n",
    "plt.show()  # Выбросов среди значений LogP, LogD_ph_5.5, LogD_ph_7.4 не выявлено. "
   ]
  },
  {
   "cell_type": "code",
   "execution_count": 7,
   "metadata": {},
   "outputs": [
    {
     "data": {
      "image/png": "[encoded data removed]",
      "text/plain": [
       "<Figure size 500x300 with 1 Axes>"
      ]
     },
     "metadata": {},
     "output_type": "display_data"
    },
    {
     "data": {
      "text/html": [
       "<div>\n",
       "<style scoped>\n",
       "    .dataframe tbody tr th:only-of-type {\n",
       "        vertical-align: middle;\n",
       "    }\n",
       "\n",
       "    .dataframe tbody tr th {\n",
       "        vertical-align: top;\n",
       "    }\n",
       "\n",
       "    .dataframe thead th {\n",
       "        text-align: right;\n",
       "    }\n",
       "</style>\n",
       "<table border=\"1\" class=\"dataframe\">\n",
       "  <thead>\n",
       "    <tr style=\"text-align: right;\">\n",
       "      <th></th>\n",
       "      <th>name</th>\n",
       "      <th>smiles</th>\n",
       "      <th>LogP</th>\n",
       "      <th>LogD_ph_5.5</th>\n",
       "      <th>LogD_ph_7.4</th>\n",
       "      <th>Ld50_orl_rat</th>\n",
       "    </tr>\n",
       "  </thead>\n",
       "  <tbody>\n",
       "    <tr>\n",
       "      <th>0</th>\n",
       "      <td>mannitol</td>\n",
       "      <td>C(C(C(C(C(CO)O)O)O)O)O</td>\n",
       "      <td>-3.1</td>\n",
       "      <td>-3.29</td>\n",
       "      <td>-3.29</td>\n",
       "      <td>17000</td>\n",
       "    </tr>\n",
       "    <tr>\n",
       "      <th>16</th>\n",
       "      <td>glibenclamide</td>\n",
       "      <td>COC1=C(C=C(C=C1)Cl)C(=O)NCCC2=CC=C(C=C2)S(=O)(...</td>\n",
       "      <td>4.8</td>\n",
       "      <td>2.87</td>\n",
       "      <td>1.85</td>\n",
       "      <td>20000</td>\n",
       "    </tr>\n",
       "    <tr>\n",
       "      <th>17</th>\n",
       "      <td>niacin</td>\n",
       "      <td>C1=CC(=CN=C1)C(=O)O</td>\n",
       "      <td>0.4</td>\n",
       "      <td>-1.54</td>\n",
       "      <td>-2.60</td>\n",
       "      <td>7000</td>\n",
       "    </tr>\n",
       "  </tbody>\n",
       "</table>\n",
       "</div>"
      ],
      "text/plain": [
       "             name                                             smiles  LogP  \\\n",
       "0        mannitol                             C(C(C(C(C(CO)O)O)O)O)O  -3.1   \n",
       "16  glibenclamide  COC1=C(C=C(C=C1)Cl)C(=O)NCCC2=CC=C(C=C2)S(=O)(...   4.8   \n",
       "17         niacin                                C1=CC(=CN=C1)C(=O)O   0.4   \n",
       "\n",
       "    LogD_ph_5.5  LogD_ph_7.4  Ld50_orl_rat  \n",
       "0         -3.29        -3.29         17000  \n",
       "16         2.87         1.85         20000  \n",
       "17        -1.54        -2.60          7000  "
      ]
     },
     "execution_count": 7,
     "metadata": {},
     "output_type": "execute_result"
    }
   ],
   "source": [
    "data2 = [df['Ld50_orl_rat']]\n",
    " \n",
    "fig = plt.figure(figsize =(5, 3))\n",
    "ax = fig.add_axes([0, 0, 1, 1])\n",
    "bp = ax.boxplot(data2)\n",
    "plt.show()  # По блочной диаграмме для Ld50_orl_rat обнаружены выбросы,\n",
    "outliers = [flier.get_ydata() for flier in bp[\"fliers\"]][0]  # которые помещаем в отдельный список,\n",
    "df[df['Ld50_orl_rat'].isin(outliers)]  # выводим список с выбросами по возрастанию индекса:"
   ]
  },
  {
   "attachments": {},
   "cell_type": "markdown",
   "metadata": {},
   "source": [
    "Для более детальной оценки однородности целевого признака Ld50_orl_rat рассмотрим следующие квартильные характеристики."
   ]
  },
  {
   "cell_type": "code",
   "execution_count": 8,
   "metadata": {},
   "outputs": [
    {
     "data": {
      "text/plain": [
       "0.6308417085427136"
      ]
     },
     "execution_count": 8,
     "metadata": {},
     "output_type": "execute_result"
    }
   ],
   "source": [
    "q1, q2, q3= np.percentile(df['Ld50_orl_rat'], [25,50,75])  # Находим первый, второй (медиану) и третий квартили,\n",
    "iqr = q3 - q1  # вычисляем интерквартильный размах для Ld50_orl_rat,\n",
    "dq = iqr/2  # вычисляем квартильное отклонение для описания вариации центральной части признака,\n",
    "vq = dq/q2  # рассчитываем квартиальный коэффициент вариации, показывающий колеблемость вокруг медианы. \n",
    "vq"
   ]
  },
  {
   "attachments": {},
   "cell_type": "markdown",
   "metadata": {},
   "source": [
    "Значение vq= 0.6 ближе к 1, нежеле к 0, что позволяет судить о значительной неоднородности или существенной колеблемости целевого признака Ld50_orl_rat. Таким образом, выборочная совокупность не является робастной, выявлена необходимость исключить из неё выбросы для снижения их влияния на результат дальнейшего корреляицонно-регрессионного анализа.\n",
    "Тем не менее, принимается во внимание и то, что результаты могут быть недостаточно достовернными ввиду малого размера выборки, увеличение которого не представляется возможным на данном этапе исследования. "
   ]
  },
  {
   "cell_type": "code",
   "execution_count": 9,
   "metadata": {},
   "outputs": [
    {
     "data": {
      "text/html": [
       "<div>\n",
       "<style scoped>\n",
       "    .dataframe tbody tr th:only-of-type {\n",
       "        vertical-align: middle;\n",
       "    }\n",
       "\n",
       "    .dataframe tbody tr th {\n",
       "        vertical-align: top;\n",
       "    }\n",
       "\n",
       "    .dataframe thead th {\n",
       "        text-align: right;\n",
       "    }\n",
       "</style>\n",
       "<table border=\"1\" class=\"dataframe\">\n",
       "  <thead>\n",
       "    <tr style=\"text-align: right;\">\n",
       "      <th></th>\n",
       "      <th>name</th>\n",
       "      <th>smiles</th>\n",
       "      <th>LogP</th>\n",
       "      <th>LogD_ph_5.5</th>\n",
       "      <th>LogD_ph_7.4</th>\n",
       "      <th>Ld50_orl_rat</th>\n",
       "    </tr>\n",
       "  </thead>\n",
       "  <tbody>\n",
       "    <tr>\n",
       "      <th>0</th>\n",
       "      <td>methotrexate</td>\n",
       "      <td>CN(CC1=CN=C2C(=N1)C(=NC(=N2)N)N)C3=CC=C(C=C3)C...</td>\n",
       "      <td>-1.8</td>\n",
       "      <td>-3.91</td>\n",
       "      <td>-5.22</td>\n",
       "      <td>135</td>\n",
       "    </tr>\n",
       "    <tr>\n",
       "      <th>1</th>\n",
       "      <td>acetaminophen</td>\n",
       "      <td>CC(=O)NC1=CC=C(C=C1)O</td>\n",
       "      <td>0.5</td>\n",
       "      <td>0.40</td>\n",
       "      <td>0.40</td>\n",
       "      <td>1944</td>\n",
       "    </tr>\n",
       "    <tr>\n",
       "      <th>2</th>\n",
       "      <td>aspirin</td>\n",
       "      <td>CC(=O)OC1=CC=CC=C1C(=O)O</td>\n",
       "      <td>1.2</td>\n",
       "      <td>-0.60</td>\n",
       "      <td>-1.69</td>\n",
       "      <td>200</td>\n",
       "    </tr>\n",
       "    <tr>\n",
       "      <th>3</th>\n",
       "      <td>captopril</td>\n",
       "      <td>CC(CS)C(=O)N1CCCC1C(=O)O</td>\n",
       "      <td>0.3</td>\n",
       "      <td>-1.23</td>\n",
       "      <td>-2.83</td>\n",
       "      <td>4245</td>\n",
       "    </tr>\n",
       "    <tr>\n",
       "      <th>4</th>\n",
       "      <td>nitrofurantoin</td>\n",
       "      <td>C1C(=O)NC(=O)N1N=CC2=CC=C(O2)[N+](=O)[O-]</td>\n",
       "      <td>-0.5</td>\n",
       "      <td>-0.03</td>\n",
       "      <td>-0.26</td>\n",
       "      <td>604</td>\n",
       "    </tr>\n",
       "    <tr>\n",
       "      <th>5</th>\n",
       "      <td>propylthiouracil</td>\n",
       "      <td>CCCC1=CC(=O)NC(=S)N1</td>\n",
       "      <td>0.8</td>\n",
       "      <td>0.46</td>\n",
       "      <td>0.34</td>\n",
       "      <td>1980</td>\n",
       "    </tr>\n",
       "    <tr>\n",
       "      <th>6</th>\n",
       "      <td>theophylline</td>\n",
       "      <td>CN1C2=C(C(=O)N(C1=O)C)NC=N2</td>\n",
       "      <td>0.0</td>\n",
       "      <td>0.00</td>\n",
       "      <td>-0.03</td>\n",
       "      <td>244</td>\n",
       "    </tr>\n",
       "    <tr>\n",
       "      <th>7</th>\n",
       "      <td>vitamin a</td>\n",
       "      <td>CC1=C(C(CCC1)(C)C)C=CC(=CC=CC(=CCO)C)C</td>\n",
       "      <td>5.7</td>\n",
       "      <td>6.01</td>\n",
       "      <td>6.01</td>\n",
       "      <td>2000</td>\n",
       "    </tr>\n",
       "    <tr>\n",
       "      <th>8</th>\n",
       "      <td>itraconazole</td>\n",
       "      <td>CCC(C)N1C(=O)N(C=N1)C2=CC=C(C=C2)N3CCN(CC3)C4=...</td>\n",
       "      <td>5.7</td>\n",
       "      <td>3.90</td>\n",
       "      <td>4.96</td>\n",
       "      <td>320</td>\n",
       "    </tr>\n",
       "    <tr>\n",
       "      <th>9</th>\n",
       "      <td>progesterone</td>\n",
       "      <td>CC(=O)C1CCC2C1(CCC3C2CCC4=CC(=O)CCC34C)C</td>\n",
       "      <td>3.9</td>\n",
       "      <td>3.72</td>\n",
       "      <td>3.72</td>\n",
       "      <td>5000</td>\n",
       "    </tr>\n",
       "    <tr>\n",
       "      <th>10</th>\n",
       "      <td>ibuprofen</td>\n",
       "      <td>CC(C)CC1=CC=C(C=C1)C(C)C(=O)O</td>\n",
       "      <td>3.5</td>\n",
       "      <td>2.25</td>\n",
       "      <td>0.45</td>\n",
       "      <td>636</td>\n",
       "    </tr>\n",
       "    <tr>\n",
       "      <th>11</th>\n",
       "      <td>diazepam</td>\n",
       "      <td>CN1C(=O)CN=C(C2=C1C=CC(=C2)Cl)C3=CC=CC=C3</td>\n",
       "      <td>3.0</td>\n",
       "      <td>2.91</td>\n",
       "      <td>2.92</td>\n",
       "      <td>249</td>\n",
       "    </tr>\n",
       "    <tr>\n",
       "      <th>12</th>\n",
       "      <td>azithromycin</td>\n",
       "      <td>CCC1C(C(C(N(CC(CC(C(C(C(C(C(=O)O1)C)OC2CC(C(C(...</td>\n",
       "      <td>4.0</td>\n",
       "      <td>-0.79</td>\n",
       "      <td>1.36</td>\n",
       "      <td>2000</td>\n",
       "    </tr>\n",
       "    <tr>\n",
       "      <th>13</th>\n",
       "      <td>chlorambucil</td>\n",
       "      <td>C1=CC(=CC=C1CCCC(=O)O)N(CCCl)CCCl</td>\n",
       "      <td>1.7</td>\n",
       "      <td>2.28</td>\n",
       "      <td>0.56</td>\n",
       "      <td>76</td>\n",
       "    </tr>\n",
       "    <tr>\n",
       "      <th>14</th>\n",
       "      <td>disulfiram</td>\n",
       "      <td>CCN(CC)C(=S)SSC(=S)N(CC)CC</td>\n",
       "      <td>3.9</td>\n",
       "      <td>3.59</td>\n",
       "      <td>3.59</td>\n",
       "      <td>500</td>\n",
       "    </tr>\n",
       "    <tr>\n",
       "      <th>15</th>\n",
       "      <td>chlorpropamide</td>\n",
       "      <td>CCCNC(=O)NS(=O)(=O)C1=CC=C(C=C1)Cl</td>\n",
       "      <td>2.3</td>\n",
       "      <td>0.95</td>\n",
       "      <td>0.19</td>\n",
       "      <td>2150</td>\n",
       "    </tr>\n",
       "    <tr>\n",
       "      <th>16</th>\n",
       "      <td>mesalazine</td>\n",
       "      <td>C1=CC(=C(C=C1N)C(=O)O)O</td>\n",
       "      <td>1.3</td>\n",
       "      <td>-1.48</td>\n",
       "      <td>-1.98</td>\n",
       "      <td>2800</td>\n",
       "    </tr>\n",
       "    <tr>\n",
       "      <th>17</th>\n",
       "      <td>thalidomide</td>\n",
       "      <td>C1CC(=O)NC(=O)C1N2C(=O)C3=CC=CC=C3C2=O</td>\n",
       "      <td>0.3</td>\n",
       "      <td>-0.39</td>\n",
       "      <td>-2.09</td>\n",
       "      <td>113</td>\n",
       "    </tr>\n",
       "    <tr>\n",
       "      <th>18</th>\n",
       "      <td>tolbutamide</td>\n",
       "      <td>CCCCNC(=O)NS(=O)(=O)C1=CC=C(C=C1)C</td>\n",
       "      <td>2.3</td>\n",
       "      <td>1.45</td>\n",
       "      <td>0.28</td>\n",
       "      <td>2490</td>\n",
       "    </tr>\n",
       "    <tr>\n",
       "      <th>19</th>\n",
       "      <td>metronidazole</td>\n",
       "      <td>CC1=NC=C(N1CCO)[N+](=O)[O-]</td>\n",
       "      <td>0.0</td>\n",
       "      <td>0.05</td>\n",
       "      <td>0.05</td>\n",
       "      <td>3000</td>\n",
       "    </tr>\n",
       "    <tr>\n",
       "      <th>20</th>\n",
       "      <td>mitomycin</td>\n",
       "      <td>CC1=C(C(=O)C2=C(C1=O)N3CC4C(C3(C2COC(=O)N)OC)N4)N</td>\n",
       "      <td>-0.4</td>\n",
       "      <td>-0.51</td>\n",
       "      <td>-0.36</td>\n",
       "      <td>30</td>\n",
       "    </tr>\n",
       "    <tr>\n",
       "      <th>21</th>\n",
       "      <td>thiabendazole</td>\n",
       "      <td>C1=CC=C2C(=C1)NC(=N2)C3=CSC=N3</td>\n",
       "      <td>2.5</td>\n",
       "      <td>2.38</td>\n",
       "      <td>2.39</td>\n",
       "      <td>2080</td>\n",
       "    </tr>\n",
       "    <tr>\n",
       "      <th>22</th>\n",
       "      <td>tinidazole</td>\n",
       "      <td>CCS(=O)(=O)CCN1C(=NC=C1[N+](=O)[O-])C</td>\n",
       "      <td>-0.4</td>\n",
       "      <td>-0.38</td>\n",
       "      <td>-0.38</td>\n",
       "      <td>2710</td>\n",
       "    </tr>\n",
       "  </tbody>\n",
       "</table>\n",
       "</div>"
      ],
      "text/plain": [
       "                name                                             smiles  LogP  \\\n",
       "0       methotrexate  CN(CC1=CN=C2C(=N1)C(=NC(=N2)N)N)C3=CC=C(C=C3)C...  -1.8   \n",
       "1      acetaminophen                              CC(=O)NC1=CC=C(C=C1)O   0.5   \n",
       "2            aspirin                           CC(=O)OC1=CC=CC=C1C(=O)O   1.2   \n",
       "3          captopril                           CC(CS)C(=O)N1CCCC1C(=O)O   0.3   \n",
       "4     nitrofurantoin          C1C(=O)NC(=O)N1N=CC2=CC=C(O2)[N+](=O)[O-]  -0.5   \n",
       "5   propylthiouracil                               CCCC1=CC(=O)NC(=S)N1   0.8   \n",
       "6       theophylline                        CN1C2=C(C(=O)N(C1=O)C)NC=N2   0.0   \n",
       "7          vitamin a             CC1=C(C(CCC1)(C)C)C=CC(=CC=CC(=CCO)C)C   5.7   \n",
       "8       itraconazole  CCC(C)N1C(=O)N(C=N1)C2=CC=C(C=C2)N3CCN(CC3)C4=...   5.7   \n",
       "9       progesterone           CC(=O)C1CCC2C1(CCC3C2CCC4=CC(=O)CCC34C)C   3.9   \n",
       "10         ibuprofen                      CC(C)CC1=CC=C(C=C1)C(C)C(=O)O   3.5   \n",
       "11          diazepam          CN1C(=O)CN=C(C2=C1C=CC(=C2)Cl)C3=CC=CC=C3   3.0   \n",
       "12      azithromycin  CCC1C(C(C(N(CC(CC(C(C(C(C(C(=O)O1)C)OC2CC(C(C(...   4.0   \n",
       "13      chlorambucil                  C1=CC(=CC=C1CCCC(=O)O)N(CCCl)CCCl   1.7   \n",
       "14        disulfiram                         CCN(CC)C(=S)SSC(=S)N(CC)CC   3.9   \n",
       "15    chlorpropamide                 CCCNC(=O)NS(=O)(=O)C1=CC=C(C=C1)Cl   2.3   \n",
       "16        mesalazine                            C1=CC(=C(C=C1N)C(=O)O)O   1.3   \n",
       "17       thalidomide             C1CC(=O)NC(=O)C1N2C(=O)C3=CC=CC=C3C2=O   0.3   \n",
       "18       tolbutamide                 CCCCNC(=O)NS(=O)(=O)C1=CC=C(C=C1)C   2.3   \n",
       "19     metronidazole                        CC1=NC=C(N1CCO)[N+](=O)[O-]   0.0   \n",
       "20         mitomycin  CC1=C(C(=O)C2=C(C1=O)N3CC4C(C3(C2COC(=O)N)OC)N4)N  -0.4   \n",
       "21     thiabendazole                     C1=CC=C2C(=C1)NC(=N2)C3=CSC=N3   2.5   \n",
       "22        tinidazole              CCS(=O)(=O)CCN1C(=NC=C1[N+](=O)[O-])C  -0.4   \n",
       "\n",
       "    LogD_ph_5.5  LogD_ph_7.4  Ld50_orl_rat  \n",
       "0         -3.91        -5.22           135  \n",
       "1          0.40         0.40          1944  \n",
       "2         -0.60        -1.69           200  \n",
       "3         -1.23        -2.83          4245  \n",
       "4         -0.03        -0.26           604  \n",
       "5          0.46         0.34          1980  \n",
       "6          0.00        -0.03           244  \n",
       "7          6.01         6.01          2000  \n",
       "8          3.90         4.96           320  \n",
       "9          3.72         3.72          5000  \n",
       "10         2.25         0.45           636  \n",
       "11         2.91         2.92           249  \n",
       "12        -0.79         1.36          2000  \n",
       "13         2.28         0.56            76  \n",
       "14         3.59         3.59           500  \n",
       "15         0.95         0.19          2150  \n",
       "16        -1.48        -1.98          2800  \n",
       "17        -0.39        -2.09           113  \n",
       "18         1.45         0.28          2490  \n",
       "19         0.05         0.05          3000  \n",
       "20        -0.51        -0.36            30  \n",
       "21         2.38         2.39          2080  \n",
       "22        -0.38        -0.38          2710  "
      ]
     },
     "execution_count": 9,
     "metadata": {},
     "output_type": "execute_result"
    }
   ],
   "source": [
    "df_robust = df[-df['Ld50_orl_rat'].isin(outliers)]  # Исключаем выявленные ранее выбросы в Ld50_orl_rat из выборки,\n",
    "df_robust.reset_index(inplace=True, drop=True)  # осуществляем сброс индексов в новом датасете\n",
    "\n",
    "df_robust"
   ]
  },
  {
   "cell_type": "code",
   "execution_count": 10,
   "metadata": {},
   "outputs": [
    {
     "data": {
      "text/html": [
       "<div>\n",
       "<style scoped>\n",
       "    .dataframe tbody tr th:only-of-type {\n",
       "        vertical-align: middle;\n",
       "    }\n",
       "\n",
       "    .dataframe tbody tr th {\n",
       "        vertical-align: top;\n",
       "    }\n",
       "\n",
       "    .dataframe thead th {\n",
       "        text-align: right;\n",
       "    }\n",
       "</style>\n",
       "<table border=\"1\" class=\"dataframe\">\n",
       "  <thead>\n",
       "    <tr style=\"text-align: right;\">\n",
       "      <th></th>\n",
       "      <th>LogP</th>\n",
       "      <th>LogD_ph_5.5</th>\n",
       "      <th>LogD_ph_7.4</th>\n",
       "      <th>Ld50_orl_rat</th>\n",
       "    </tr>\n",
       "  </thead>\n",
       "  <tbody>\n",
       "    <tr>\n",
       "      <th>LogP</th>\n",
       "      <td>1.000000</td>\n",
       "      <td>0.830625</td>\n",
       "      <td>0.848808</td>\n",
       "      <td>0.098810</td>\n",
       "    </tr>\n",
       "    <tr>\n",
       "      <th>LogD_ph_5.5</th>\n",
       "      <td>0.830625</td>\n",
       "      <td>1.000000</td>\n",
       "      <td>0.933540</td>\n",
       "      <td>0.047303</td>\n",
       "    </tr>\n",
       "    <tr>\n",
       "      <th>LogD_ph_7.4</th>\n",
       "      <td>0.848808</td>\n",
       "      <td>0.933540</td>\n",
       "      <td>1.000000</td>\n",
       "      <td>0.078542</td>\n",
       "    </tr>\n",
       "    <tr>\n",
       "      <th>Ld50_orl_rat</th>\n",
       "      <td>0.098810</td>\n",
       "      <td>0.047303</td>\n",
       "      <td>0.078542</td>\n",
       "      <td>1.000000</td>\n",
       "    </tr>\n",
       "  </tbody>\n",
       "</table>\n",
       "</div>"
      ],
      "text/plain": [
       "                  LogP  LogD_ph_5.5  LogD_ph_7.4  Ld50_orl_rat\n",
       "LogP          1.000000     0.830625     0.848808      0.098810\n",
       "LogD_ph_5.5   0.830625     1.000000     0.933540      0.047303\n",
       "LogD_ph_7.4   0.848808     0.933540     1.000000      0.078542\n",
       "Ld50_orl_rat  0.098810     0.047303     0.078542      1.000000"
      ]
     },
     "execution_count": 10,
     "metadata": {},
     "output_type": "execute_result"
    }
   ],
   "source": [
    "# Осуществляем проверку на мультиколлинеарность:\n",
    "matrix = df_robust.corr(numeric_only=True)  # Построим корреляционную матрицу факторов и целевого признака.\n",
    "matrix"
   ]
  },
  {
   "cell_type": "code",
   "execution_count": 26,
   "metadata": {},
   "outputs": [
    {
     "data": {
      "image/png": "[encoded data removed]",
      "text/plain": [
       "<Figure size 640x480 with 2 Axes>"
      ]
     },
     "metadata": {},
     "output_type": "display_data"
    }
   ],
   "source": [
    "# Для лучшей визуализации матрицы корреляции воспользуемся heatmap.\n",
    "sns.heatmap(df_robust.corr(numeric_only=True), cmap='coolwarm', annot = True);  "
   ]
  },
  {
   "cell_type": "code",
   "execution_count": 11,
   "metadata": {},
   "outputs": [
    {
     "name": "stdout",
     "output_type": "stream",
     "text": [
      "Rank: 4\n"
     ]
    }
   ],
   "source": [
    "#Вычислим ранг полученной матрицы корреляций:\n",
    "\n",
    "print('Rank:', np.linalg.matrix_rank(matrix))"
   ]
  },
  {
   "cell_type": "code",
   "execution_count": 12,
   "metadata": {},
   "outputs": [
    {
     "name": "stdout",
     "output_type": "stream",
     "text": [
      "Determinant: 0.0339\n"
     ]
    }
   ],
   "source": [
    "# Множественный R^2 (коэффициент детерминации):\n",
    "print('Determinant: {:.4f}'.format(np.linalg.det(matrix)))"
   ]
  },
  {
   "cell_type": "markdown",
   "metadata": {},
   "source": [
    "Абсолютно идентичных признаков нет, т.к. ранг матрицы равен количеству факторов, корреляционная матрица обусловлена плохо, т.к. определитель близок к нулю.\n",
    "Так как факторные признаки коррелируют друг с другом, можем говорить о наличии мультиколлинеарности, поэтому аппроксимация моделью множественной регресии нецелесообразна. "
   ]
  },
  {
   "attachments": {},
   "cell_type": "markdown",
   "metadata": {},
   "source": [
    "<!-- - Высококоррелируют между собой logD_ph_5.5 logD_ph_7.4 (коэффициент больше 0.7, ожидаемо имеют небольшие отклонения значений между собой), также высокая корреляция прослеживается между данными показателями и logP.\n",
    "- logP: его коэффициент модели свидетельствует о прямой зависимости с целевой переменной (2670.3), в то время как коэффициент корреляции демонстрирует слабую отрицательную корреляцию (-0.052).  -->\n"
   ]
  },
  {
   "cell_type": "code",
   "execution_count": 75,
   "metadata": {},
   "outputs": [
    {
     "data": {
      "text/html": [
       "<style>#sk-container-id-11 {color: black;background-color: white;}#sk-container-id-11 pre{padding: 0;}#sk-container-id-11 div.sk-toggleable {background-color: white;}#sk-container-id-11 label.sk-toggleable__label {cursor: pointer;display: block;width: 100%;margin-bottom: 0;padding: 0.3em;box-sizing: border-box;text-align: center;}#sk-container-id-11 label.sk-toggleable__label-arrow:before {content: \"▸\";float: left;margin-right: 0.25em;color: #696969;}#sk-container-id-11 label.sk-toggleable__label-arrow:hover:before {color: black;}#sk-container-id-11 div.sk-estimator:hover label.sk-toggleable__label-arrow:before {color: black;}#sk-container-id-11 div.sk-toggleable__content {max-height: 0;max-width: 0;overflow: hidden;text-align: left;background-color: #f0f8ff;}#sk-container-id-11 div.sk-toggleable__content pre {margin: 0.2em;color: black;border-radius: 0.25em;background-color: #f0f8ff;}#sk-container-id-11 input.sk-toggleable__control:checked~div.sk-toggleable__content {max-height: 200px;max-width: 100%;overflow: auto;}#sk-container-id-11 input.sk-toggleable__control:checked~label.sk-toggleable__label-arrow:before {content: \"▾\";}#sk-container-id-11 div.sk-estimator input.sk-toggleable__control:checked~label.sk-toggleable__label {background-color: #d4ebff;}#sk-container-id-11 div.sk-label input.sk-toggleable__control:checked~label.sk-toggleable__label {background-color: #d4ebff;}#sk-container-id-11 input.sk-hidden--visually {border: 0;clip: rect(1px 1px 1px 1px);clip: rect(1px, 1px, 1px, 1px);height: 1px;margin: -1px;overflow: hidden;padding: 0;position: absolute;width: 1px;}#sk-container-id-11 div.sk-estimator {font-family: monospace;background-color: #f0f8ff;border: 1px dotted black;border-radius: 0.25em;box-sizing: border-box;margin-bottom: 0.5em;}#sk-container-id-11 div.sk-estimator:hover {background-color: #d4ebff;}#sk-container-id-11 div.sk-parallel-item::after {content: \"\";width: 100%;border-bottom: 1px solid gray;flex-grow: 1;}#sk-container-id-11 div.sk-label:hover label.sk-toggleable__label {background-color: #d4ebff;}#sk-container-id-11 div.sk-serial::before {content: \"\";position: absolute;border-left: 1px solid gray;box-sizing: border-box;top: 0;bottom: 0;left: 50%;z-index: 0;}#sk-container-id-11 div.sk-serial {display: flex;flex-direction: column;align-items: center;background-color: white;padding-right: 0.2em;padding-left: 0.2em;position: relative;}#sk-container-id-11 div.sk-item {position: relative;z-index: 1;}#sk-container-id-11 div.sk-parallel {display: flex;align-items: stretch;justify-content: center;background-color: white;position: relative;}#sk-container-id-11 div.sk-item::before, #sk-container-id-11 div.sk-parallel-item::before {content: \"\";position: absolute;border-left: 1px solid gray;box-sizing: border-box;top: 0;bottom: 0;left: 50%;z-index: -1;}#sk-container-id-11 div.sk-parallel-item {display: flex;flex-direction: column;z-index: 1;position: relative;background-color: white;}#sk-container-id-11 div.sk-parallel-item:first-child::after {align-self: flex-end;width: 50%;}#sk-container-id-11 div.sk-parallel-item:last-child::after {align-self: flex-start;width: 50%;}#sk-container-id-11 div.sk-parallel-item:only-child::after {width: 0;}#sk-container-id-11 div.sk-dashed-wrapped {border: 1px dashed gray;margin: 0 0.4em 0.5em 0.4em;box-sizing: border-box;padding-bottom: 0.4em;background-color: white;}#sk-container-id-11 div.sk-label label {font-family: monospace;font-weight: bold;display: inline-block;line-height: 1.2em;}#sk-container-id-11 div.sk-label-container {text-align: center;}#sk-container-id-11 div.sk-container {/* jupyter's `normalize.less` sets `[hidden] { display: none; }` but bootstrap.min.css set `[hidden] { display: none !important; }` so we also need the `!important` here to be able to override the default hidden behavior on the sphinx rendered scikit-learn.org. See: https://github.com/scikit-learn/scikit-learn/issues/21755 */display: inline-block !important;position: relative;}#sk-container-id-11 div.sk-text-repr-fallback {display: none;}</style><div id=\"sk-container-id-11\" class=\"sk-top-container\"><div class=\"sk-text-repr-fallback\"><pre>LinearRegression()</pre><b>In a Jupyter environment, please rerun this cell to show the HTML representation or trust the notebook. <br />On GitHub, the HTML representation is unable to render, please try loading this page with nbviewer.org.</b></div><div class=\"sk-container\" hidden><div class=\"sk-item\"><div class=\"sk-estimator sk-toggleable\"><input class=\"sk-toggleable__control sk-hidden--visually\" id=\"sk-estimator-id-11\" type=\"checkbox\" checked><label for=\"sk-estimator-id-11\" class=\"sk-toggleable__label sk-toggleable__label-arrow\">LinearRegression</label><div class=\"sk-toggleable__content\"><pre>LinearRegression()</pre></div></div></div></div></div>"
      ],
      "text/plain": [
       "LinearRegression()"
      ]
     },
     "execution_count": 75,
     "metadata": {},
     "output_type": "execute_result"
    }
   ],
   "source": [
    "# Построим модель парной линейной регрессии, описывающей предполагаемую зависимость Ld50_orl_rat от LogP.\n",
    "\n",
    "from sklearn import preprocessing, svm\n",
    "from sklearn.model_selection import train_test_split\n",
    "from sklearn.linear_model import LinearRegression\n",
    "from sklearn.metrics import mean_absolute_percentage_error\n",
    "\n",
    "X = np.array(df_robust['LogP']).reshape(-1, 1)   # Значения факторной переменной (предиктора).\n",
    "y = np.array(df_robust['Ld50_orl_rat']).reshape(-1, 1)  # Значения целевой переменной (предиката).\n",
    "\n",
    "# Воспользуемся рассчетом линейной регрессии из библиотеки sklearn: \n",
    "X_train, X_test, y_train, y_test = train_test_split(X, y, test_size = 0.25)\n",
    "model = LinearRegression()\n",
    "model.fit(X_train, y_train)\n"
   ]
  },
  {
   "cell_type": "code",
   "execution_count": 76,
   "metadata": {},
   "outputs": [
    {
     "data": {
      "text/plain": [
       "array([[1655.98617852],\n",
       "       [1513.57470995],\n",
       "       [2288.92603887],\n",
       "       [1323.69275184],\n",
       "       [1782.57415059],\n",
       "       [1323.69275184]])"
      ]
     },
     "execution_count": 76,
     "metadata": {},
     "output_type": "execute_result"
    }
   ],
   "source": [
    "y_pred = model.predict(X_test)  # Прогнозируемые значения LD50_orl_rat на основе обучения модели парной регрессии.\n",
    "y_pred"
   ]
  },
  {
   "cell_type": "code",
   "execution_count": 77,
   "metadata": {},
   "outputs": [
    {
     "data": {
      "text/plain": [
       "11.82589857292424"
      ]
     },
     "execution_count": 77,
     "metadata": {},
     "output_type": "execute_result"
    }
   ],
   "source": [
    "mape = mean_absolute_percentage_error(y_true=y_test,y_pred=y_pred)  # Средняя абсолютная ошибка в процентах.\n",
    "mape"
   ]
  },
  {
   "cell_type": "code",
   "execution_count": 33,
   "metadata": {},
   "outputs": [
    {
     "data": {
      "text/plain": [
       "<AxesSubplot: xlabel='LogP', ylabel='Ld50_orl_rat'>"
      ]
     },
     "execution_count": 33,
     "metadata": {},
     "output_type": "execute_result"
    },
    {
     "data": {
      "image/png": "[encoded data removed]",
      "text/plain": [
       "<Figure size 640x480 with 1 Axes>"
      ]
     },
     "metadata": {},
     "output_type": "display_data"
    }
   ],
   "source": [
    "# Полученную модель зависимости представим в виде корреляционного поля (диаграмма рассеяния с отложенной линией регрессии).\n",
    "df_robust_binary = df_robust[['LogP', 'Ld50_orl_rat']]\n",
    "tx = sns.scatterplot(x =\"LogP\", y =\"Ld50_orl_rat\", data = df_robust_binary)\n",
    "sns.regplot (x =\"LogP\", y =\"Ld50_orl_rat\", data = df_robust_binary, scatter=False, ax=tx, ci=None)"
   ]
  },
  {
   "attachments": {},
   "cell_type": "markdown",
   "metadata": {},
   "source": [
    "Зависимость не носит линейный характер, качество построенной модели регрессии оценивая средней ошибкой, выраженной в процентах, следует охарактеризовать как неудовлетворительное, т.к. ее значение значительно превышает допустимое.\n"
   ]
  }
 ],
 "metadata": {
  "kernelspec": {
   "display_name": "Python 3",
   "language": "python",
   "name": "python3"
  },
  "language_info": {
   "codemirror_mode": {
    "name": "ipython",
    "version": 3
   },
   "file_extension": ".py",
   "mimetype": "text/x-python",
   "name": "python",
   "nbconvert_exporter": "python",
   "pygments_lexer": "ipython3",
   "version": "3.9.13"
  },
  "orig_nbformat": 4,
  "vscode": {
   "interpreter": {
    "hash": "cf92aa13fedf815d5c8dd192b8d835913fde3e8bc926b2a0ad6cc74ef2ba3ca2"
   }
  }
 },
 "nbformat": 4,
 "nbformat_minor": 2
}
